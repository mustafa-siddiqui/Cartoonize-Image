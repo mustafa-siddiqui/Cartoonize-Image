{
 "cells": [
  {
   "cell_type": "code",
   "execution_count": 1,
   "id": "7bbba18e",
   "metadata": {},
   "outputs": [],
   "source": [
    "\"\"\"\n",
    "    clustering.ipynb\n",
    "    Functions for implementing k-means clustering for quantizing the colors in an image.\n",
    "    Mustafa Siddiqui\n",
    "\"\"\"\n",
    "pass"
   ]
  },
  {
   "cell_type": "code",
   "execution_count": 2,
   "id": "087ae3f7",
   "metadata": {},
   "outputs": [],
   "source": [
    "from inc import IP\n",
    "%matplotlib inline"
   ]
  },
  {
   "cell_type": "code",
   "execution_count": null,
   "id": "ecf99da8",
   "metadata": {},
   "outputs": [],
   "source": []
  }
 ],
 "metadata": {
  "kernelspec": {
   "display_name": "Python 3",
   "language": "python",
   "name": "python3"
  },
  "language_info": {
   "codemirror_mode": {
    "name": "ipython",
    "version": 3
   },
   "file_extension": ".py",
   "mimetype": "text/x-python",
   "name": "python",
   "nbconvert_exporter": "python",
   "pygments_lexer": "ipython3",
   "version": "3.8.8"
  }
 },
 "nbformat": 4,
 "nbformat_minor": 5
}
