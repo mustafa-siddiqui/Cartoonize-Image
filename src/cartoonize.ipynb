{
 "cells": [
  {
   "cell_type": "code",
   "execution_count": 9,
   "id": "dc719321",
   "metadata": {},
   "outputs": [],
   "source": [
    "\"\"\"\n",
    "    cartoonize.ipynb\n",
    "    Driver code for ECE 247 Final Project: Image to Cartoon Converter.\n",
    "    Mahmud Jumaev, Mustafa Siddiqui, & Raffay Nawaz\n",
    "\"\"\"\n",
    "pass"
   ]
  },
  {
   "cell_type": "code",
   "execution_count": 1,
   "id": "1cb8562b",
   "metadata": {},
   "outputs": [],
   "source": [
    "from inc import IP\n",
    "\n",
    "%run edgeDetection.ipynb\n",
    "%run filters.ipynb\n",
    "%run clustering.ipynb\n",
    "%run imageDivision.ipynb\n",
    "\n",
    "%matplotlib inline"
   ]
  },
  {
   "cell_type": "code",
   "execution_count": null,
   "id": "15e16007",
   "metadata": {},
   "outputs": [],
   "source": []
  }
 ],
 "metadata": {
  "kernelspec": {
   "display_name": "Python 3",
   "language": "python",
   "name": "python3"
  },
  "language_info": {
   "codemirror_mode": {
    "name": "ipython",
    "version": 3
   },
   "file_extension": ".py",
   "mimetype": "text/x-python",
   "name": "python",
   "nbconvert_exporter": "python",
   "pygments_lexer": "ipython3",
   "version": "3.8.8"
  }
 },
 "nbformat": 4,
 "nbformat_minor": 5
}
