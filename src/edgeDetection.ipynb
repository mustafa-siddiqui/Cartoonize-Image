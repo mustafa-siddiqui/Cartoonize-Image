{
 "cells": [
  {
   "cell_type": "code",
   "execution_count": 5,
   "id": "3f3ef1c7",
   "metadata": {},
   "outputs": [],
   "source": [
    "\"\"\"\n",
    "    edgeDetection.ipynb\n",
    "    Functions used for creating edge mask for converting image to cartoon.\n",
    "    @author(s)\n",
    "\"\"\"\n",
    "pass"
   ]
  },
  {
   "cell_type": "code",
   "execution_count": 6,
   "id": "91172c03",
   "metadata": {},
   "outputs": [],
   "source": [
    "from inc import IP\n",
    "%matplotlib inline"
   ]
  },
  {
   "cell_type": "code",
   "execution_count": 3,
   "id": "1e585179",
   "metadata": {},
   "outputs": [],
   "source": [
    "def cannyEdgeDetector(img, strel):\n",
    "    ''' Canny Edge Detector for detecting edges in an image.\n",
    "        @param original image\n",
    "        @output edge mask of image\n",
    "    '''\n",
    "   "
   ]
  },
  {
   "cell_type": "code",
   "execution_count": 1,
   "id": "0137d8fe",
   "metadata": {},
   "outputs": [],
   "source": [
    "def morphologicalGradient(img):\n",
    "    ''' Morphological Gradient for detecting edges in an image.\n",
    "        @param original image, stuctural element\n",
    "        @output edge mask of image\n",
    "    '''\n",
    "    I=IP.gs_imopen(img,strel)\n",
    "    I2=IP.gs_imclose(img,strel)\n",
    "    #invert to create the desired mask\n",
    "    I3=1-(I2-I1)\n",
    "    return I3"
   ]
  },
  {
   "cell_type": "code",
   "execution_count": 2,
   "id": "68f12c59",
   "metadata": {},
   "outputs": [],
   "source": [
    "def differential(img):\n",
    "    ''' Determines the gradient of an image.\n",
    "        @param original image\n",
    "        @output edge mask of image\n",
    "    '''\n",
    "    return IP.np.diff(img)\n",
    "\n"
   ]
  },
  {
   "cell_type": "code",
   "execution_count": 3,
   "id": "9659b90c",
   "metadata": {},
   "outputs": [],
   "source": [
    "def dilatedEdge(img,thresh):\n",
    "    ''' Determines the edge of an image by dilating, and \n",
    "        binarizing the image.\n",
    "        @param original image, binarizing threshold\n",
    "        @output edge mask of image\n",
    "    '''\n",
    "    #using Top Hat\n",
    "    strel=IP.square(3)\n",
    "    dialate=IP.gs_imdilate(img,strel)\n",
    "    eg=img-dialate\n",
    "    out=1-IP.im2bw(IP.np.abs(eg),thresh)\n",
    "    return out"
   ]
  },
  {
   "cell_type": "code",
   "execution_count": null,
   "id": "f59e48fb",
   "metadata": {},
   "outputs": [],
   "source": []
  }
 ],
 "metadata": {
  "kernelspec": {
   "display_name": "Python 3",
   "language": "python",
   "name": "python3"
  },
  "language_info": {
   "codemirror_mode": {
    "name": "ipython",
    "version": 3
   },
   "file_extension": ".py",
   "mimetype": "text/x-python",
   "name": "python",
   "nbconvert_exporter": "python",
   "pygments_lexer": "ipython3",
   "version": "3.8.8"
  }
 },
 "nbformat": 4,
 "nbformat_minor": 5
}
