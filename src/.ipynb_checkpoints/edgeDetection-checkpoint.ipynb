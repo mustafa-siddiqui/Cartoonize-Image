{
 "cells": [
  {
   "cell_type": "code",
   "execution_count": 5,
   "id": "3f3ef1c7",
   "metadata": {},
   "outputs": [],
   "source": [
    "\"\"\"\n",
    "    edgeDetection.ipynb\n",
    "    Functions used for creating edge mask for converting image to cartoon.\n",
    "    @author(s)\n",
    "\"\"\"\n",
    "pass"
   ]
  },
  {
   "cell_type": "code",
   "execution_count": 6,
   "id": "91172c03",
   "metadata": {},
   "outputs": [],
   "source": [
    "from inc import IP\n",
    "%matplotlib inline"
   ]
  },
  {
   "cell_type": "code",
   "execution_count": 3,
   "id": "1e585179",
   "metadata": {},
   "outputs": [],
   "source": [
    "def cannyEdgeDetector(img):\n",
    "    ''' Canny Edge Detector for detecting edges in an image.\n",
    "        @param original image\n",
    "        @output edge mask of image\n",
    "    '''"
   ]
  },
  {
   "cell_type": "code",
   "execution_count": null,
   "id": "0137d8fe",
   "metadata": {},
   "outputs": [],
   "source": []
  }
 ],
 "metadata": {
  "kernelspec": {
   "display_name": "Python 3",
   "language": "python",
   "name": "python3"
  },
  "language_info": {
   "codemirror_mode": {
    "name": "ipython",
    "version": 3
   },
   "file_extension": ".py",
   "mimetype": "text/x-python",
   "name": "python",
   "nbconvert_exporter": "python",
   "pygments_lexer": "ipython3",
   "version": "3.8.8"
  }
 },
 "nbformat": 4,
 "nbformat_minor": 5
}
