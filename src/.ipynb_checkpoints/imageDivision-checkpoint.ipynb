{
 "cells": [
  {
   "cell_type": "code",
   "execution_count": 7,
   "id": "745000c2",
   "metadata": {},
   "outputs": [],
   "source": [
    "\"\"\"\n",
    "    imageDivision.ipynb\n",
    "    Functions related to dividing an image into subimages and recombining them.\n",
    "    @author Mustafa Siddiqui\n",
    "\"\"\"\n",
    "pass"
   ]
  },
  {
   "cell_type": "code",
   "execution_count": 2,
   "id": "435d57ed",
   "metadata": {},
   "outputs": [],
   "source": [
    "from inc import IP\n",
    "%matplotlib inline"
   ]
  },
  {
   "cell_type": "code",
   "execution_count": 5,
   "id": "a97c9f9b",
   "metadata": {},
   "outputs": [],
   "source": [
    "def divideImage(img, rows, cols):\n",
    "    ''' Divide image into a matrix of size 'rows' and 'cols'. \n",
    "        Note that the matrix is stored as an array so rows and cols need\n",
    "        to be stored separately.\n",
    "        @param  img: original image\n",
    "                rows: number of rows of resultant matrix\n",
    "                cols: numer of cols of resultant matrix\n",
    "        @return array containing rows*cols subimages\n",
    "    '''\n",
    "    colDiv = int(w / cols)\n",
    "    rows = 3\n",
    "    rowDiv = int(l / rows)\n",
    "\n",
    "    # to store image sub-sections\n",
    "    arr = []\n",
    "\n",
    "    startR = 0\n",
    "    endR = rowDiv\n",
    "    startC = 0\n",
    "    endC = colDiv\n",
    "    for r in range(rows):\n",
    "        startC = 0\n",
    "        endC = colDiv\n",
    "        for c in range(cols):\n",
    "            arr.append(I5[startR:endR, startC:endC])\n",
    "            startC = endC\n",
    "            endC += colDiv\n",
    "        startR = endR\n",
    "        endR += rowDiv\n",
    "        \n",
    "    return arr"
   ]
  },
  {
   "cell_type": "code",
   "execution_count": 6,
   "id": "364112f5",
   "metadata": {},
   "outputs": [],
   "source": [
    "def combineSubImages(arr, rows, cols):\n",
    "    ''' Combine an 1D array of sub-images into one 2D image. \n",
    "        @param  arr: sub-image array\n",
    "                rows: number of rows image is divided into\n",
    "                cols: number of columns image is divided into\n",
    "        @return combined image\n",
    "    '''\n",
    "    \n",
    "    rowArr = [0] * rows\n",
    "    \n",
    "    # combine the subimages horizontally\n",
    "    temp = arr[0]\n",
    "    i = 0\n",
    "    for r in range(rows):\n",
    "        # reset dimensions of temp\n",
    "        temp = arr[i]\n",
    "        i += 1\n",
    "        for c in range(cols-1):\n",
    "            temp = IP.np.hstack((temp, arr[i]))\n",
    "            i += 1\n",
    "        rowArr[r] = temp\n",
    "        \n",
    "    # combine the horizontally combined subimages vertically\n",
    "    img = rowArr[0]\n",
    "    for i in range(1, rows):\n",
    "        img = IP.np.vstack((img, rowArr[i]))\n",
    "        \n",
    "    return img"
   ]
  },
  {
   "cell_type": "code",
   "execution_count": null,
   "id": "588eb233",
   "metadata": {},
   "outputs": [],
   "source": []
  }
 ],
 "metadata": {
  "kernelspec": {
   "display_name": "Python 3",
   "language": "python",
   "name": "python3"
  },
  "language_info": {
   "codemirror_mode": {
    "name": "ipython",
    "version": 3
   },
   "file_extension": ".py",
   "mimetype": "text/x-python",
   "name": "python",
   "nbconvert_exporter": "python",
   "pygments_lexer": "ipython3",
   "version": "3.8.8"
  }
 },
 "nbformat": 4,
 "nbformat_minor": 5
}
