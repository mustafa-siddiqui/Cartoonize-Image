{
 "cells": [
  {
   "cell_type": "code",
   "execution_count": 1,
   "id": "05518bbf",
   "metadata": {},
   "outputs": [],
   "source": [
    "\"\"\"\n",
    "    filters.ipynb\n",
    "    Functions related to noise reduction filters.\n",
    "    @author(s)\n",
    "\"\"\"\n",
    "pass"
   ]
  },
  {
   "cell_type": "code",
   "execution_count": 2,
   "id": "9758fedd",
   "metadata": {},
   "outputs": [],
   "source": [
    "from inc import IP\n",
    "%matplotlib inline"
   ]
  },
  {
   "cell_type": "code",
   "execution_count": 3,
   "id": "7eaa7bde",
   "metadata": {},
   "outputs": [],
   "source": [
    "def _getKernel(img, size, r, c):\n",
    "    ''' Helper function to get the kernel around a pixel in an image.\n",
    "        @param  img: image\n",
    "                size: size of the kernel, e.g. 5x5 kernel size = 5\n",
    "                r: x-coordinate of pixel\n",
    "                c: y-coordinate of pixel\n",
    "        @return array containing pixel values in the kernel\n",
    "    '''\n",
    "    n = (size-1) // 2\n",
    "    kernel = []\n",
    "    for i in range(-n,n+1):\n",
    "        for j in range(-n,n+1):\n",
    "            kernel.append(img[r+i, c+j])\n",
    "\n",
    "    return kernel"
   ]
  },
  {
   "cell_type": "code",
   "execution_count": 4,
   "id": "2359730f",
   "metadata": {},
   "outputs": [],
   "source": [
    "def medianFilter(img, size):\n",
    "    ''' Median filter to remove noise from image \n",
    "        @param  original image\n",
    "                size: kernel size\n",
    "        @return filtered image\n",
    "    '''\n",
    "    \n",
    "    return IP.medfil2d(img, size)"
   ]
  },
  {
   "cell_type": "code",
   "execution_count": 5,
   "id": "3663272c",
   "metadata": {},
   "outputs": [],
   "source": [
    "def midpointFilter(img, size):\n",
    "    ''' Apply a midpoint filter with a nxn kernel to \n",
    "        a grayscale image.\n",
    "        @param  image on which filter is to be applied\n",
    "                size: kernel size\n",
    "        @return filtered image\n",
    "    '''\n",
    "    \n",
    "    l, w = img.shape\n",
    "    kernelSize = size\n",
    "    n = (kernelSize-1) // 2\n",
    "    \n",
    "    out = IP.np.zeros((l, w))\n",
    "    for r in range(n, l-n):\n",
    "        for c in range(n, w-n):\n",
    "            kernel = _getKernel(img, kernelSize, r, c)\n",
    "            maxVal = IP.np.max(kernel)\n",
    "            minVal = IP.np.min(kernel)\n",
    "            midMean = (maxVal + minVal) / 2\n",
    "            \n",
    "            out[r, c] = midMean\n",
    "            \n",
    "    return out"
   ]
  },
  {
   "cell_type": "code",
   "execution_count": 6,
   "id": "73c73b29",
   "metadata": {},
   "outputs": [],
   "source": [
    "def arithMeanFilter(img, n):\n",
    "    ''' Apply an arithmetic mean filter to an image.\n",
    "        @param  original image\n",
    "                n: kernel size\n",
    "        @return filtered image\n",
    "    '''\n",
    "    rows, cols = img.shape\n",
    "    img1 = IP.np.zeros((rows, cols))\n",
    "    \n",
    "    for r in range(n, rows-n):\n",
    "        for c in range(n, cols-n):\n",
    "            kernel = _getKernel(img, n, r, c)\n",
    "            mean = IP.np.mean(kernel)\n",
    "            img1[r, c] = mean\n",
    "            \n",
    "    return img1"
   ]
  },
  {
   "cell_type": "code",
   "execution_count": 11,
   "id": "ef1df77e",
   "metadata": {},
   "outputs": [],
   "source": [
    "def medianFilter3D(I, size):\n",
    "    ''' Apply a median filter with a nxn kernel to \n",
    "        all color channels.\n",
    "        @param  image on which filter is to be applied\n",
    "                size: kernel size\n",
    "        @return filtered image\n",
    "    '''\n",
    "    \n",
    "    l, w, numColors = I.shape\n",
    "    \n",
    "    redPixels = I[:, :, 0]\n",
    "    greenPixels = I[:, :, 1]\n",
    "    bluePixels = I[:, :, 2]\n",
    "    \n",
    "    r1 = medianFilter(redPixels, size)\n",
    "    g1 = medianFilter(greenPixels, size)\n",
    "    b1 = medianFilter(bluePixels, size)\n",
    "    \n",
    "    out = IP.np.zeros((l, w, numColors), dtype='int')\n",
    "    out[:, :, 0] = r1\n",
    "    out[:, :, 1] = g1\n",
    "    out[:, :, 2] = b1\n",
    "    \n",
    "    return out"
   ]
  },
  {
   "cell_type": "code",
   "execution_count": null,
   "id": "373dfc0e",
   "metadata": {},
   "outputs": [],
   "source": [
    "def addNoise(img, noise_level):\n",
    "    ''' Add gaussian noise to image\n",
    "        @param  image on which noise is to be added\n",
    "                noise_level: percentage of gaussian noise to be added to image \n",
    "        @return noisy image\n",
    "    '''\n",
    "    \n",
    "    l ,w , num_col = img.shape\n",
    "    noise = IP.randn(l,w)\n",
    "    \n",
    "    img_noise = IP.np.copy(img)\n",
    "    \n",
    "    img_noise[:,:,0] = noise * (img[:,:,0].mean()*(noise_level/100)) + img[:,:,0]\n",
    "    img_noise[:,:,1] = noise * (img[:,:,1].mean()*(noise_level/100)) + img[:,:,1]\n",
    "    img_noise[:,:,2] = noise * (img[:,:,2].mean()*(noise_level/100)) + img[:,:,2]\n",
    "\n",
    "    return img_noise"
   ]
  }
 ],
 "metadata": {
  "kernelspec": {
   "display_name": "Python 3",
   "language": "python",
   "name": "python3"
  },
  "language_info": {
   "codemirror_mode": {
    "name": "ipython",
    "version": 3
   },
   "file_extension": ".py",
   "mimetype": "text/x-python",
   "name": "python",
   "nbconvert_exporter": "python",
   "pygments_lexer": "ipython3",
   "version": "3.8.8"
  }
 },
 "nbformat": 4,
 "nbformat_minor": 5
}
