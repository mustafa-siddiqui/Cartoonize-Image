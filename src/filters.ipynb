{
 "cells": [
  {
   "cell_type": "code",
   "execution_count": 6,
   "id": "05518bbf",
   "metadata": {},
   "outputs": [],
   "source": [
    "\"\"\"\n",
    "    filters.ipynb\n",
    "    Functions related to noise reduction filters.\n",
    "    @author(s)\n",
    "\"\"\"\n",
    "pass"
   ]
  },
  {
   "cell_type": "code",
   "execution_count": 7,
   "id": "9758fedd",
   "metadata": {},
   "outputs": [],
   "source": [
    "from inc import IP\n",
    "%matplotlib inline"
   ]
  },
  {
   "cell_type": "code",
   "execution_count": 4,
   "id": "2359730f",
   "metadata": {},
   "outputs": [],
   "source": [
    "def medianFilter(img):\n",
    "    ''' Median filter to remove noise from image \n",
    "        @param original image\n",
    "        @return filtered image\n",
    "    '''\n",
    "    "
   ]
  },
  {
   "cell_type": "code",
   "execution_count": null,
   "id": "3663272c",
   "metadata": {},
   "outputs": [],
   "source": []
  }
 ],
 "metadata": {
  "kernelspec": {
   "display_name": "Python 3",
   "language": "python",
   "name": "python3"
  },
  "language_info": {
   "codemirror_mode": {
    "name": "ipython",
    "version": 3
   },
   "file_extension": ".py",
   "mimetype": "text/x-python",
   "name": "python",
   "nbconvert_exporter": "python",
   "pygments_lexer": "ipython3",
   "version": "3.8.8"
  }
 },
 "nbformat": 4,
 "nbformat_minor": 5
}
