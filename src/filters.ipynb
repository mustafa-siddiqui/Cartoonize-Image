{
 "cells": [
  {
   "cell_type": "code",
   "execution_count": 6,
   "id": "05518bbf",
   "metadata": {},
   "outputs": [],
   "source": [
    "\"\"\"\n",
    "    filters.ipynb\n",
    "    Functions related to noise reduction filters.\n",
    "    @author(s)\n",
    "\"\"\"\n",
    "pass"
   ]
  },
  {
   "cell_type": "code",
   "execution_count": 7,
   "id": "9758fedd",
   "metadata": {},
   "outputs": [],
   "source": [
    "from inc import IP\n",
    "%matplotlib inline"
   ]
  },
  {
   "cell_type": "code",
   "execution_count": 1,
   "id": "7eaa7bde",
   "metadata": {},
   "outputs": [],
   "source": [
    "def _getKernel(img, size, r, c):\n",
    "    ''' Helper function to get the kernel around a pixel in an image.\n",
    "        @param  img: image\n",
    "                size: size of the kernel, e.g. 5x5 kernel size = 5\n",
    "                r: x-coordinate of pixel\n",
    "                c: y-coordinate of pixel\n",
    "        @return array containing pixel values in the kernel\n",
    "    '''\n",
    "    n = (size-1) // 2\n",
    "    kernel = []\n",
    "    for i in range(-n,n+1):\n",
    "        for j in range(-n,n+1):\n",
    "            kernel.append(img[r+i, c+j])\n",
    "\n",
    "    return kernel"
   ]
  },
  {
   "cell_type": "code",
   "execution_count": 3,
   "id": "2359730f",
   "metadata": {},
   "outputs": [],
   "source": [
    "def medianFilter(img, size):\n",
    "    ''' Median filter to remove noise from image \n",
    "        @param  original image\n",
    "                size: kernel size\n",
    "        @return filtered image\n",
    "    '''\n",
    "    \n",
    "    return IP.medfil2d(img, size)"
   ]
  },
  {
   "cell_type": "code",
   "execution_count": 6,
   "id": "3663272c",
   "metadata": {},
   "outputs": [],
   "source": [
    "def midpointFilter(img, size):\n",
    "    ''' Apply a midpoint filter with a nxn kernel to \n",
    "        a grayscale image.\n",
    "        @param  image on which filter is to be applied\n",
    "                size: kernel size\n",
    "        @return filtered image\n",
    "    '''\n",
    "    \n",
    "    l, w = img.shape\n",
    "    kernelSize = size\n",
    "    n = (kernelSize-1) // 2\n",
    "    \n",
    "    out = IP.np.zeros((l, w))\n",
    "    for r in range(n, l-n):\n",
    "        for c in range(n, w-n):\n",
    "            kernel = _getKernel(img, kernelSize, r, c)\n",
    "            maxVal = IP.np.max(kernel)\n",
    "            minVal = IP.np.min(kernel)\n",
    "            midMean = (maxVal + minVal) / 2\n",
    "            \n",
    "            out[r, c] = midMean\n",
    "            \n",
    "    return out"
   ]
  },
  {
   "cell_type": "code",
   "execution_count": 7,
   "id": "73c73b29",
   "metadata": {},
   "outputs": [],
   "source": [
    "def arithMeanFilter(img, n):\n",
    "    ''' Apply an arithmetic mean filter to an image.\n",
    "        @param  original image\n",
    "                n: kernel size\n",
    "        @return filtered image\n",
    "    '''\n",
    "    rows, cols = img.shape\n",
    "    img1 = IP.np.zeros((rows, cols))\n",
    "    \n",
    "    for r in range(n, rows-n):\n",
    "        for c in range(n, cols-n):\n",
    "            kernel = _getKernel(img, n, r, c)\n",
    "            mean = IP.np.mean(kernel)\n",
    "            img1[r, c] = mean\n",
    "            \n",
    "    return img1"
   ]
  },
  {
   "cell_type": "code",
   "execution_count": null,
   "id": "7b5bb50b",
   "metadata": {},
   "outputs": [],
   "source": [
    "# might need wiener filter, lucy-richardson filter from exam\n",
    "# can use adaptive algo or otsu method for thresholding from exam\n",
    "# gibbs phenomenon done in HW3"
   ]
  }
 ],
 "metadata": {
  "kernelspec": {
   "display_name": "Python 3",
   "language": "python",
   "name": "python3"
  },
  "language_info": {
   "codemirror_mode": {
    "name": "ipython",
    "version": 3
   },
   "file_extension": ".py",
   "mimetype": "text/x-python",
   "name": "python",
   "nbconvert_exporter": "python",
   "pygments_lexer": "ipython3",
   "version": "3.8.8"
  }
 },
 "nbformat": 4,
 "nbformat_minor": 5
}
